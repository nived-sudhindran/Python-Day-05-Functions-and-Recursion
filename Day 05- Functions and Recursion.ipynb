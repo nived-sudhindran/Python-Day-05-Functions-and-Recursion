{
 "cells": [
  {
   "cell_type": "markdown",
   "id": "36f60e59-e6f0-4247-9984-f3276976aaab",
   "metadata": {},
   "source": [
    "### ○ Write a recursive function to calculate the factorial of a number."
   ]
  },
  {
   "cell_type": "code",
   "execution_count": 5,
   "id": "f032ad86-6315-4190-9efa-8e5950933a71",
   "metadata": {},
   "outputs": [
    {
     "name": "stdin",
     "output_type": "stream",
     "text": [
      "Enter the number to find the Factorial :  -10\n"
     ]
    },
    {
     "name": "stdout",
     "output_type": "stream",
     "text": [
      "Negative numbers do not have factorial!\n"
     ]
    }
   ],
   "source": [
    "fact=1\n",
    "def recur_factorial(num):\n",
    "    global fact\n",
    "    #fact = num\n",
    "    if num>=1:\n",
    "        # print (fact , \" \", num)\n",
    "        print(num,end=\"  \")\n",
    "        fact = fact * num * recur_factorial(num-1)        \n",
    "    return fact\n",
    "\n",
    "number=int(input(\"Enter the number to find the Factorial : \"))\n",
    "if number>=1:\n",
    "    print(\"Factorial is the product of following numbers : \",end=\"   \")\n",
    "    print(f\"\\nFactorial of {number} is :\", recur_factorial(number))\n",
    "else:\n",
    "    print(\"Negative numbers do not have factorial!\")"
   ]
  },
  {
   "cell_type": "code",
   "execution_count": null,
   "id": "20e14110-9623-4143-88b4-ec51c75bbb10",
   "metadata": {},
   "outputs": [],
   "source": []
  },
  {
   "cell_type": "markdown",
   "id": "f34de3c4-6863-420c-bc68-1bb66d6dd799",
   "metadata": {},
   "source": [
    "### ○ Create a function to generate the Fibonacci series up to n."
   ]
  },
  {
   "cell_type": "code",
   "execution_count": 11,
   "id": "30c9dee0-b1fd-4caf-95a8-1659ee046089",
   "metadata": {},
   "outputs": [
    {
     "name": "stdin",
     "output_type": "stream",
     "text": [
      "Enter the number to generate Fibonacci Series :  50\n"
     ]
    },
    {
     "name": "stdout",
     "output_type": "stream",
     "text": [
      "0 , 1, 1, 2, 3, 5, 8, 13, 21, 34"
     ]
    }
   ],
   "source": [
    "def fibonacci(num):\n",
    "    a=0\n",
    "    b=1\n",
    "    temp=a+b\n",
    "    if num == 0 :\n",
    "        print(a)\n",
    "    elif num == 1 :\n",
    "        print (a,\",\",b)\n",
    "    elif num > 1 :\n",
    "        print (a,\",\",b,end=\"\")\n",
    "        while (a+b)<=num:\n",
    "            temp=a+b\n",
    "            print(\",\",temp,end=\"\")\n",
    "            a=b\n",
    "            b=temp\n",
    "    else:\n",
    "        print (\"Invalid value!\")\n",
    "        \n",
    "\n",
    "number=int(input(\"Enter the number to generate Fibonacci Series : \"))\n",
    "fibonacci(number)\n"
   ]
  },
  {
   "cell_type": "code",
   "execution_count": null,
   "id": "545af1ae-afcd-40cf-a0cd-4203f57a67ba",
   "metadata": {},
   "outputs": [],
   "source": []
  }
 ],
 "metadata": {
  "kernelspec": {
   "display_name": "Python 3 (ipykernel)",
   "language": "python",
   "name": "python3"
  },
  "language_info": {
   "codemirror_mode": {
    "name": "ipython",
    "version": 3
   },
   "file_extension": ".py",
   "mimetype": "text/x-python",
   "name": "python",
   "nbconvert_exporter": "python",
   "pygments_lexer": "ipython3",
   "version": "3.12.7"
  }
 },
 "nbformat": 4,
 "nbformat_minor": 5
}
